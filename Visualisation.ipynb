{
 "cells": [
  {
   "cell_type": "code",
   "execution_count": null,
   "metadata": {
    "colab": {
     "base_uri": "https://localhost:8080/"
    },
    "executionInfo": {
     "elapsed": 2641,
     "status": "ok",
     "timestamp": 1731934173832,
     "user": {
      "displayName": "Konstantina Mammou",
      "userId": "05691654487090857473"
     },
     "user_tz": -120
    },
    "id": "YEwUjmxO4Vf0",
    "outputId": "91d18e44-10c7-48b3-8830-c4f4ec3ed67c"
   },
   "outputs": [],
   "source": [
    "from google.colab import drive\n",
    "drive.mount('/content/drive')"
   ]
  },
  {
   "cell_type": "code",
   "execution_count": 2,
   "metadata": {
    "executionInfo": {
     "elapsed": 7768,
     "status": "ok",
     "timestamp": 1731934183108,
     "user": {
      "displayName": "Konstantina Mammou",
      "userId": "05691654487090857473"
     },
     "user_tz": -120
    },
    "id": "pY1DGveD542L"
   },
   "outputs": [],
   "source": [
    "import tensorflow as tf\n",
    "from tensorflow import keras\n",
    "from keras import models\n",
    "import h5py\n",
    "from keras.layers import Input\n",
    "from keras.layers import Dense\n",
    "from keras.layers import Flatten\n",
    "from keras.layers import LSTM\n",
    "from keras.layers import ConvLSTM2D\n",
    "from keras.layers import BatchNormalization\n",
    "from keras.layers import Dropout\n",
    "from keras.layers import MaxPooling3D\n",
    "from keras.utils import plot_model\n",
    "from keras.models import Model\n",
    "\n",
    "import matplotlib.pyplot as plt\n",
    "import numpy as np\n",
    "\n",
    "import os"
   ]
  },
  {
   "cell_type": "code",
   "execution_count": 3,
   "metadata": {
    "executionInfo": {
     "elapsed": 2,
     "status": "ok",
     "timestamp": 1731934183108,
     "user": {
      "displayName": "Konstantina Mammou",
      "userId": "05691654487090857473"
     },
     "user_tz": -120
    },
    "id": "gqXQjeMS6J5Y"
   },
   "outputs": [],
   "source": [
    "def denormalize(data,true_min, true_max):\n",
    "  denormalized = data * (true_max - true_min) + true_min\n",
    "  return denormalized\n",
    "\n",
    "\n",
    "def denormalize_full(data, true_minX, true_maxX, true_minY, true_maxY):  #data = (x,y)\n",
    "  Xgazedenorm = denormalize(data[:,0], true_minX, true_maxX)   #denorm\n",
    "  Ygazedenorm = denormalize(data[:,1], true_minY, true_maxY)\n",
    "\n",
    "  Xgazedenorm = np.array(Xgazedenorm)\n",
    "  Ygazedenorm = np.array(Ygazedenorm)\n",
    "  final_denormalized = np.column_stack((Xgazedenorm,Ygazedenorm))\n",
    "\n",
    "\n",
    "  return final_denormalized     #data tis morfis (x,y)\n",
    "\n",
    "\n",
    "Xmin = -19.067780871643322\n",
    "Xmax = 21.46873726490827\n",
    "\n",
    "Ymin = -38.03606803389029\n",
    "Ymax = 27.631278570342523"
   ]
  },
  {
   "cell_type": "code",
   "execution_count": null,
   "metadata": {
    "colab": {
     "base_uri": "https://localhost:8080/"
    },
    "executionInfo": {
     "elapsed": 5343,
     "status": "ok",
     "timestamp": 1731937980594,
     "user": {
      "displayName": "Konstantina Mammou",
      "userId": "05691654487090857473"
     },
     "user_tz": -120
    },
    "id": "x9-V4QPxSYwt",
    "outputId": "bf200d3f-e119-41b7-f1cb-7417ccab2160"
   },
   "outputs": [],
   "source": [
    "filename = \"/content/drive/MyDrive/Thesis/Datasets2/final_dtset/final_dataset2.hdf5\"\n",
    "model = models.load_model(\"/content/drive/MyDrive/Thesis/Models/Full_10.h5\")\n",
    "\n",
    "low = 26000\n",
    "high = 26001\n",
    "with h5py.File(filename, 'r') as f:\n",
    "    X1_dataset = f['X1_dataset']\n",
    "    X2_dataset = f['X2_dataset']\n",
    "    Y_dataset = f['Y_dataset']\n",
    "\n",
    "    print(X2_dataset.shape)\n",
    "    test_data1 = X1_dataset[low:high]\n",
    "    test_data2= X2_dataset[low:high]\n",
    "    y_data = Y_dataset[low:high]\n",
    "    predictions = model.predict((test_data1,test_data2))\n",
    "    print(\"Prediction:\", predictions)\n",
    "    print(\"GT:        \", y_data)\n",
    "\n",
    "\n",
    "\n",
    "\n",
    "    final_predictions = denormalize_full(predictions, Xmin, Xmax, Ymin, Ymax)\n",
    "    final_groundTruth = denormalize_full(y_data, Xmin, Xmax, Ymin, Ymax)\n",
    "    print(\"Prediction:\", final_predictions)\n",
    "    print(\"GT:        \", final_groundTruth)\n",
    "\n",
    "    print(test_data1.shape)\n",
    "    last_image = test_data1[0, -1, :, :, :]\n",
    "\n",
    "# Check the shape of the extracted image\n",
    "print(last_image.shape)  # Should output (71, 128, 3)\n"
   ]
  },
  {
   "cell_type": "code",
   "execution_count": 54,
   "metadata": {
    "colab": {
     "base_uri": "https://localhost:8080/",
     "height": 1000,
     "output_embedded_package_id": "10p6a65s2IdPtd1CFbD-xUF9k8DjQejzJ"
    },
    "executionInfo": {
     "elapsed": 394787,
     "status": "ok",
     "timestamp": 1731944319480,
     "user": {
      "displayName": "Konstantina Mammou",
      "userId": "05691654487090857473"
     },
     "user_tz": -120
    },
    "id": "jGPnlH1qqDLK",
    "outputId": "00169847-0720-4cbd-8b88-f465516ecb43"
   },
   "outputs": [
    {
     "data": {
      "text/plain": [
       "Output hidden; open in https://colab.research.google.com to view."
      ]
     },
     "metadata": {},
     "output_type": "display_data"
    }
   ],
   "source": [
    "import random\n",
    "from time import time\n",
    "# Load dataset and model\n",
    "filename = \"/content/drive/MyDrive/Thesis/Datasets2/final_dataset.hdf5\"\n",
    "model = models.load_model(\"/content/drive/MyDrive/Thesis/Models/Full_10.h5\")\n",
    "\n",
    "# Select random samples\n",
    "num_samples = 44981    # Total sample size\n",
    "random_indices = random.sample(range(num_samples), 100)  # Select 10 random indices\n",
    "\n",
    "# Prepare constants\n",
    "horizontal_fov = 104  # Horizontal FOV in degrees\n",
    "vertical_fov = 104    # Vertical FOV in degrees\n",
    "region_radius_angle = 15  # Circle radius in visual degrees\n",
    "image_width = 128  # Image width\n",
    "image_height = 71  # Image height\n",
    "\n",
    "# Helper function to convert visual angles to pixel coordinates\n",
    "def visual_angle_to_pixel(x_angle, y_angle, image_width, image_height, h_fov, v_fov):\n",
    "    x_pixel = int((x_angle / h_fov) * image_width + image_width / 2)\n",
    "    y_pixel = int((-y_angle / v_fov) * image_height + image_height / 2)\n",
    "    x_pixel = np.clip(x_pixel, 0, image_width - 1)\n",
    "    y_pixel = np.clip(y_pixel, 0, image_height - 1)\n",
    "    return x_pixel, y_pixel\n",
    "\n",
    "# To store the runtime for each prediction\n",
    "runtimes = []\n",
    "\n",
    "# Loop over each randomly selected index and plot the results\n",
    "for idx in random_indices:\n",
    "    with h5py.File(filename, 'r') as f:\n",
    "        X1_dataset = f['X1_dataset']\n",
    "        X2_dataset = f['X2_dataset']\n",
    "        Y_dataset = f['Y_dataset']\n",
    "\n",
    "        # Get the corresponding data\n",
    "        test_data1 = X1_dataset[idx:idx+1]\n",
    "        test_data2 = X2_dataset[idx:idx+1]\n",
    "        y_data = Y_dataset[idx:idx+1]\n",
    "\n",
    "        # Predict the gaze point\n",
    "        start = time()\n",
    "        predictions = model.predict((test_data1, test_data2))\n",
    "        prediction_runtime = (time() - start) * 1000\n",
    "        runtimes.append(prediction_runtime)\n",
    "\n",
    "\n",
    "        # Denormalize the predictions and ground truth\n",
    "        final_predictions = denormalize_full(predictions, Xmin, Xmax, Ymin, Ymax)\n",
    "        final_groundTruth = denormalize_full(y_data, Xmin, Xmax, Ymin, Ymax)\n",
    "\n",
    "        # Extract the gaze points and ground truth\n",
    "        gaze_point_angle = (final_predictions[0, 0], final_predictions[0, 1])\n",
    "        groundtruth_angle = (final_groundTruth[0, 0], final_groundTruth[0, 1])\n",
    "\n",
    "        # Get the last image from the sequence\n",
    "        last_image = test_data1[0, -1, :, :, :]  # Shape (71, 128, 3)\n",
    "        original_img = (last_image * 255.0).astype(np.uint8)\n",
    "\n",
    "        # Convert the gaze point and ground truth to pixel coordinates\n",
    "        gaze_x, gaze_y = visual_angle_to_pixel(*gaze_point_angle, image_width, image_height, horizontal_fov, vertical_fov)\n",
    "        gt_x, gt_y = visual_angle_to_pixel(*groundtruth_angle, image_width, image_height, horizontal_fov, vertical_fov)\n",
    "\n",
    "        # Convert the visual angle radius to pixel radius\n",
    "        horizontal_pixel_per_degree = image_width / horizontal_fov\n",
    "        vertical_pixel_per_degree = image_height / vertical_fov\n",
    "        radius_x = region_radius_angle * horizontal_pixel_per_degree\n",
    "        radius_y = region_radius_angle * vertical_pixel_per_degree\n",
    "        radius_pixel = int((radius_x + radius_y) / 2)  # Average for a circular region\n",
    "\n",
    "        # Plot the image for this sample\n",
    "        fig, ax = plt.subplots()\n",
    "        ax.imshow(original_img)\n",
    "\n",
    "        # Plot groundtruth with foveal region\n",
    "        ax.plot(gt_x, gt_y, marker='+', color='violet', markersize=17, markeredgewidth=3)\n",
    "        gaze_circle = plt.Circle((gt_x, gt_y), radius_pixel, color='violet', fill=False, linewidth=2)\n",
    "        ax.add_patch(gaze_circle)\n",
    "\n",
    "        # Plot gaze point with cross\n",
    "        ax.plot(gaze_x, gaze_y, marker='+', color='yellow', markersize=17, markeredgewidth=3)\n",
    "        # Optional: Plot circle for gaze region around gaze point\n",
    "        # gaze_circle = plt.Circle((gaze_x, gaze_y), radius_pixel, color='red', fill=False, linewidth=1, label=\"Gaze Region\")\n",
    "        # ax.add_patch(gaze_circle)\n",
    "\n",
    "        # Plot mean baseline with cross\n",
    "        mean_bsline = (1.1891425755626226, -5.259580611647258)\n",
    "        mean_x, mean_y = visual_angle_to_pixel(*mean_bsline, image_width, image_height, horizontal_fov, vertical_fov)\n",
    "        ax.plot(mean_x, mean_y, marker='+', color='cyan', markersize=17, markeredgewidth=3)\n",
    "\n",
    "        # Plot center baseline with cross\n",
    "        center_bsline = (0, 0)\n",
    "        center_x, center_y = visual_angle_to_pixel(*center_bsline, image_width, image_height, horizontal_fov, vertical_fov)\n",
    "        ax.plot(center_x, center_y, marker='+', color='red', markersize=17, markeredgewidth=3)\n",
    "\n",
    "        # Add legend and finalize\n",
    "        ax.legend(loc=\"upper left\")\n",
    "        #plt.title(f\"Gaze Prediction {idx+1}\")\n",
    "        plt.axis('off')\n",
    "        plt.show()\n",
    "        print(\"Dataset sample: \", idx)\n",
    "\n",
    "\n",
    "#Calculate average runtime\n",
    "average_runtime = np.mean(runtimes)\n",
    "print(f\"Average Prediction Runtime: {average_runtime:.4f} ms\")\n",
    "print(\"FULL RUNTIMES:\\n\", runtimes)"
   ]
  }
 ],
 "metadata": {
  "colab": {
   "authorship_tag": "ABX9TyO9J6sHLTzaQL0Xrh7siTMd",
   "provenance": []
  },
  "kernelspec": {
   "display_name": "Python 3",
   "name": "python3"
  },
  "language_info": {
   "name": "python"
  }
 },
 "nbformat": 4,
 "nbformat_minor": 0
}
